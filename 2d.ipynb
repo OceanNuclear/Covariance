{
 "cells": [
  {
   "cell_type": "code",
   "execution_count": null,
   "metadata": {},
   "outputs": [],
   "source": [
    "# Boilerplate imports\n",
    "from numpy import array as ary; from numpy import log as ln\n",
    "from numpy import cos, sin, pi, sqrt, exp, arccos, arcsin\n",
    "tau = 2*pi\n",
    "import numpy as np;\n",
    "from matplotlib import pyplot as plt\n",
    "# Linear algebra functions\n",
    "from numpy.linalg import inv, pinv, det, eig, eigh, eigvals\n",
    "from matplotlib.patches import Ellipse # for plotting ellipse"
   ]
  },
  {
   "cell_type": "code",
   "execution_count": null,
   "metadata": {},
   "outputs": [],
   "source": [
    "# program to generate a covariance matrix where the variance values are fixed at [2,2].\n",
    "def generate_cov(off_diag):\n",
    "    cov = ary([[1.0,off_diag],[off_diag,1.0]])\n",
    "    return cov*2\n",
    "\n",
    "PLOT_CIRCLE = True\n",
    "# if PLOT_CIRCLE: plot the error ellipse using 11 differernt covariance values;\n",
    "# else: plot plot the variation of the error ellipse area wrt. the covariance value.\n",
    "if not PLOT_CIRCLE:\n",
    "    determinant_cov, determinant_inv_cov, size = [], [], []"
   ]
  },
  {
   "cell_type": "markdown",
   "metadata": {},
   "source": [
    "Setup:\n",
    "\n",
    "- We have a point cloud with a center at (0,0).\n",
    "- 1 sigma of the points (68% of them) lies within the error ellipse. (We won't be plotting the remaining 32%)\n",
    "- The top left element of the covariance matrix describes the width of this ellipse, and the bottom right describes the height of the ellipse.\n",
    "- Therefore, varying the covariance value (i.e. the symmetric off-diagonal terms) should only make the ellipse into a thinner ellipse that is leaning left/right."
   ]
  },
  {
   "cell_type": "code",
   "execution_count": null,
   "metadata": {},
   "outputs": [],
   "source": [
    "if __name__=='__main__':\n",
    "    if PLOT_CIRCLE:\n",
    "        i_range = np.linspace(-1.98, 1.98, 11) # plotting the actual covariance circle\n",
    "    else:\n",
    "        i_range = np.linspace(-0, 1.98, 30) # plotting area variation as covariance varies across(0, 1)\n",
    "    for i in i_range:\n",
    "    # create a scatter of dots for plotting\n",
    "        left, right, resolution = -10, 10, 300\n",
    "        pt_list = np.linspace(left,right, resolution)\n",
    "        unit_square_size = ((right-left)/resolution)**2\n",
    "        points = ary(np.meshgrid(pt_list, pt_list)).T.flatten().reshape([-1,2])\n",
    "\n",
    "        # generate the covariance matrix, and evaluate the shape of the error ellipse\n",
    "        cov = generate_cov(i)\n",
    "        print(cov)\n",
    "        (minor, major), eig_mat = eig(inv(cov) * det(cov))\n",
    "        print(major, minor)\n",
    "        mat = inv(eig_mat)\n",
    "        # ignore the arccos becuase it will always return a non-negative value.\n",
    "        orientation = np.mean([arcsin(mat[0,1]), -arcsin(mat[1,0])])*np.sign(mat[0,0])\n",
    "\n",
    "        chi2_level = ((points @ inv(cov)) * points).sum(axis=1)\n",
    "        mask = chi2_level<=1\n",
    "\n",
    "        # plotting\n",
    "        if PLOT_CIRCLE:\n",
    "            fig, ax = plt.subplots()\n",
    "            ellipse = Ellipse([0,0], # centered at the origin\n",
    "                        2*sqrt(major),\n",
    "                        2*sqrt(minor),\n",
    "                        np.rad2deg(orientation)\n",
    "                        )\n",
    "            # DUUUUDE I got the width=2*sqrt(major)/sqrt(det(inv(cov))) equation by trial and error LMAO\n",
    "            ax.add_patch(ellipse)\n",
    "            ax.scatter(*points[mask].T, marker='+', alpha=0.4, color='C1', zorder=10) # scatter plot approach\n",
    "            plt.show()\n",
    "            \n",
    "        else: # plotting the variation of the area\n",
    "            determinant_cov.append(det(cov))\n",
    "            determinant_inv_cov.append(det(inv(cov)))\n",
    "            size.append(sum(mask)*unit_square_size)\n",
    "            \n",
    "    if not PLOT_CIRCLE:\n",
    "        plt.plot(i_range, sqrt(determinant_cov)*pi, label='cov determinant')\n",
    "        plt.xlabel('covariance (off-diagonal elements) value')\n",
    "        plt.ylabel('area/area prediction/other quantities')\n",
    "        plt.plot(i_range, determinant_inv_cov, label='inv_cov determinant')\n",
    "        plt.plot(i_range, size, label='ellipse size')\n",
    "        plt.legend()\n",
    "        plt.show()"
   ]
  },
  {
   "cell_type": "markdown",
   "metadata": {},
   "source": [
    "Using ```PLOT_CIRCLE = True``` we can verify that my code has correctly plotted the error ellipse correctly: All points with $chi^2 \\le 1$ are plotted within the error ellipse.\n",
    "The parameters about the ellipse is closely related to the matrix \n",
    "\n",
    "\\begin{equation}\n",
    "S^{-1} \\dot det(S)\n",
    "\\end{equation}\n",
    "\n",
    "where S is the covariance matrix\n",
    "\n",
    "The major radius is equal to sqrt(the larger eigen value), minor radius is equal to sqrt(the smaller eigen value).\n",
    "To draw the ellipse on our graph, we first draw an ellipse with those specified radii (major axis in the horizontal direction), then apply the rotation matrix as described by the eigenvector matrix of the equation above.\n",
    "\n",
    "Meanhwile, using ```PLOT_CIRCLE = False``` we can show that the covariance ellipse area is equal to the expression det(cov). The ellipse area was empirically calculated by counting the number of points that the ellipse covers when spread over an evenly spaced grid."
   ]
  },
  {
   "cell_type": "markdown",
   "metadata": {},
   "source": [
    "The important conclusion from this project is that, if we fix the variance values, increasing the absolute value of the covariance will make the error ellipse thinner. And the specific algorithm required to plot the error ellipse is also found."
   ]
  }
 ],
 "metadata": {
  "kernelspec": {
   "display_name": "Python 3",
   "language": "python",
   "name": "python3"
  },
  "language_info": {
   "codemirror_mode": {
    "name": "ipython",
    "version": 3
   },
   "file_extension": ".py",
   "mimetype": "text/x-python",
   "name": "python",
   "nbconvert_exporter": "python",
   "pygments_lexer": "ipython3",
   "version": "3.7.3"
  }
 },
 "nbformat": 4,
 "nbformat_minor": 2
}
