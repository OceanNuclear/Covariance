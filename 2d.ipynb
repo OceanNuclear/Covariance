{
 "cells": [
  {
   "cell_type": "code",
   "execution_count": null,
   "metadata": {},
   "outputs": [],
   "source": [
    "# Boilerplate imports\n",
    "from numpy import array as ary; from numpy import log as ln\n",
    "from numpy import cos, sin, pi, sqrt, exp, arccos, arcsin\n",
    "tau = 2*pi\n",
    "import numpy as np;\n",
    "from matplotlib import pyplot as plt\n",
    "# Linear algebra functions\n",
    "from numpy.linalg import inv, pinv, det, eig, eigh, eigvals\n",
    "from matplotlib.patches import Ellipse # for plotting ellipse\n",
    "from collections import namedtuple"
   ]
  },
  {
   "cell_type": "code",
   "execution_count": null,
   "metadata": {},
   "outputs": [],
   "source": [
    "# program to generate a covariance matrix where the variance values are fixed at [2,2].\n",
    "def generate_cov(off_diag):\n",
    "    cov = ary([[2.0, off_diag], [off_diag, 2.0]])\n",
    "    return cov\n",
    "\n",
    "Dots = namedtuple('Dots', ['points', 'area'])\n",
    "def get_encircled_dots(covariance_matrix, bounds=[-10, 10], resolution=300):\n",
    "    pt_list = np.linspace(*bounds, resolution)\n",
    "    unit_square_size = ((bounds[1]-bounds[0])/resolution)**2\n",
    "    points = ary(np.meshgrid(pt_list, pt_list)).T.flatten().reshape([-1,2])\n",
    "    \n",
    "    chi2_level = ((points @ inv(covariance_matrix)) * points).sum(axis=1)\n",
    "    mask = chi2_level <= 1 # choose only points within the error ellipse\n",
    "    area = sum(mask)*unit_square_size\n",
    "    \n",
    "    return Dots(points[mask], area)\n",
    "\n",
    "\n",
    "PLOT_CIRCLE = True\n",
    "# if PLOT_CIRCLE: plot the error ellipse using 11 differernt covariance values;\n",
    "# else: plot plot the variation of the error ellipse area wrt. the covariance value.\n",
    "if not PLOT_CIRCLE:\n",
    "    determinant_cov, determinant_inv_cov, size = [], [], []"
   ]
  },
  {
   "cell_type": "markdown",
   "metadata": {},
   "source": [
    "Setup:\n",
    "\n",
    "- We have a point cloud with a center at (0,0).\n",
    "- 1 sigma of the points (68% of them) lies within the error ellipse. (We won't be plotting the remaining 32%)\n",
    "- The top left element of the covariance matrix describes the width of this ellipse, and the bottom right describes the height of the ellipse.\n",
    "- Therefore, varying the covariance value (i.e. the symmetric off-diagonal terms) should only make the ellipse into a thinner ellipse that is leaning left/right."
   ]
  },
  {
   "cell_type": "code",
   "execution_count": null,
   "metadata": {},
   "outputs": [],
   "source": [
    "# plot the error ellipse\n",
    "cov_range = np.linspace(-1.98, 1.98, 11)\n",
    "for i in cov_range:\n",
    "    cov = generate_cov(i)\n",
    "    (minor, major) , eig_mat = eig(inv(cov) * det(cov))\n",
    "    mat = inv(eig_mat)\n",
    "    orientation = np.mean([arcsin(mat[0,1]), -arcsin(mat[1,0])])*np.sign(mat[0,0])\n",
    "    fig, ax = plt.subplots()\n",
    "    ellipse = Ellipse([0,0], # centered at the origin\n",
    "                2*sqrt(major),\n",
    "                2*sqrt(minor),\n",
    "                np.rad2deg(orientation)\n",
    "                )\n",
    "    # DUUUUDE I got the width=2*sqrt(major)/sqrt(det(inv(cov))) equation by trial and error LMAO\n",
    "    ax.add_patch(ellipse)\n",
    "    ax.scatter(*(get_encircled_dots(cov).points.T), marker='+', alpha=0.4, color='C1', zorder=10) # scatter plot approach\n",
    "    plt.show()\n"
   ]
  },
  {
   "cell_type": "markdown",
   "metadata": {},
   "source": [
    "Using the code block above we can verify that we have correctly plotted the error ellipse correctly: All points with $\\chi^2 \\le 1$ are plotted; and it concides exactly with the error ellipse.\n",
    "The parameters about the ellipse is closely related to the following matrix:\n",
    "\n",
    "\\begin{equation}\n",
    "M = S^{-1} \\dot det(S)\n",
    "\\end{equation}\n",
    "\n",
    "where S is the covariance matrix\n",
    "\n",
    "The major radius is equal to sqrt(the larger eigen value of $M$), minor radius is equal to sqrt(the smaller eigen value of $M$).\n",
    "To draw the ellipse on our graph, we first draw an ellipse with those specified radii (major axis in the horizontal direction), then apply the rotation matrix as described by the eigenvector matrix of $M$."
   ]
  },
  {
   "cell_type": "markdown",
   "metadata": {},
   "source": [
    "We can also show that the covariance ellipse area is equal to the expression $det(S)$ (i.e. determinant of the covariance matrix).\n",
    "\n",
    "The ellipse area was empirically calculated by counting the number of points that the ellipse covers when spread over an evenly spaced grid."
   ]
  },
  {
   "cell_type": "code",
   "execution_count": null,
   "metadata": {},
   "outputs": [],
   "source": [
    "determinant_cov, size = [], []\n",
    "for i in np.linspace(-0, 1.98, 30):\n",
    "    cov = generate_cov(i)\n",
    "    determinant_cov.append(det(cov))\n",
    "    size.append(get_encircled_dots(cov).area)\n",
    "\n",
    "plt.plot(cov_range, sqrt(determinant_cov)*pi, label='cov determinant')\n",
    "plt.xlabel('covariance (off-diagonal elements) value')\n",
    "plt.ylabel('area/area prediction/other quantities')\n",
    "plt.plot(cov_range, size, label='ellipse size')\n",
    "plt.legend()\n",
    "plt.show()\n",
    "\n",
    "print(\"Notice that these two lines overlap very well.\")\n",
    "print(\"In fact, they would be exactly the same if the number of samples we take approaches infinity.\")"
   ]
  },
  {
   "cell_type": "markdown",
   "metadata": {},
   "source": [
    "The important conclusion from this project is that, if we fix the variance values, increasing the absolute value of the covariance will make the error ellipse thinner. And the specific algorithm required to plot the error ellipse is also found."
   ]
  }
 ],
 "metadata": {
  "kernelspec": {
   "display_name": "Python 3",
   "language": "python",
   "name": "python3"
  },
  "language_info": {
   "codemirror_mode": {
    "name": "ipython",
    "version": 3
   },
   "file_extension": ".py",
   "mimetype": "text/x-python",
   "name": "python",
   "nbconvert_exporter": "python",
   "pygments_lexer": "ipython3",
   "version": "3.8.2"
  }
 },
 "nbformat": 4,
 "nbformat_minor": 2
}
